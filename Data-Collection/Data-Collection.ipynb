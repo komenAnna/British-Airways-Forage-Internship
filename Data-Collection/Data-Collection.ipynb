{
 "cells": [
  {
   "cell_type": "markdown",
   "id": "3af5b47e",
   "metadata": {},
   "source": [
    "# Task 1 BA FORAGE INTERNSHIP\n",
    "\n",
    "DATA COLLECTION\n",
    "\n",
    "In this phase we will collect the customer rating data from a website called Skytrax. We will collect data about the airline ratings, seats ratings, lounge experience ratings from this website."
   ]
  },
  {
   "cell_type": "code",
   "execution_count": 1,
   "id": "72e647a3",
   "metadata": {},
   "outputs": [
    {
     "ename": "SyntaxError",
     "evalue": "invalid syntax (2424351179.py, line 3)",
     "output_type": "error",
     "traceback": [
      "\u001b[1;36m  Cell \u001b[1;32mIn[1], line 3\u001b[1;36m\u001b[0m\n\u001b[1;33m    conda install -c anaconda beautifulsoup4\u001b[0m\n\u001b[1;37m          ^\u001b[0m\n\u001b[1;31mSyntaxError\u001b[0m\u001b[1;31m:\u001b[0m invalid syntax\n"
     ]
    }
   ],
   "source": [
    "# Import libraries and dependencies\n",
    "# Install Beautiful Soup for scraping the website\n",
    "conda install -c anaconda beautifulsoup4"
   ]
  },
  {
   "cell_type": "code",
   "execution_count": 2,
   "id": "27b429ad",
   "metadata": {},
   "outputs": [
    {
     "name": "stdout",
     "output_type": "stream",
     "text": [
      "Requirement already satisfied: BeautifulSoup4 in c:\\users\\admin\\anaconda3\\lib\\site-packages (4.11.1)\n",
      "Requirement already satisfied: soupsieve>1.2 in c:\\users\\admin\\anaconda3\\lib\\site-packages (from BeautifulSoup4) (2.3.1)\n",
      "Note: you may need to restart the kernel to use updated packages.\n"
     ]
    }
   ],
   "source": [
    "# Install Beautiful Soup for scraping the website \n",
    "# Is a python package which allows us to pull data out of HTML and XML documents.\n",
    "pip install BeautifulSoup4"
   ]
  },
  {
   "cell_type": "code",
   "execution_count": null,
   "id": "f7abb1f2",
   "metadata": {},
   "outputs": [],
   "source": [
    "pip install lxml"
   ]
  },
  {
   "cell_type": "code",
   "execution_count": 10,
   "id": "ddeff88f",
   "metadata": {},
   "outputs": [],
   "source": [
    "import pandas as pd\n",
    "import numpy as np\n",
    "from bs4 import BeautifulSoup\n",
    "import requests"
   ]
  },
  {
   "cell_type": "code",
   "execution_count": 11,
   "id": "d25f613d",
   "metadata": {},
   "outputs": [],
   "source": [
    "# Create an empty list to collect all collected reviews\n",
    "reviews = []\n",
    "\n",
    "# Create an empty list to collect star ratings\n",
    "stars = []\n",
    "\n",
    "#create an empty list to collect date\n",
    "date = []\n",
    "\n",
    "#create an empty list to collect country the reviewer is from\n",
    "country = []"
   ]
  },
  {
   "cell_type": "code",
   "execution_count": 17,
   "id": "626b19a5",
   "metadata": {},
   "outputs": [
    {
     "name": "stdout",
     "output_type": "stream",
     "text": [
      "Error on page30\n",
      "Error on page31\n",
      "Error on page32\n",
      "Error on page34\n",
      "Error on page34\n"
     ]
    }
   ],
   "source": [
    "# loop through the specified paginated pages\n",
    "for i in range(1, 36): #loop through the first 35 pages\n",
    "    # a variable to store the respective page html content using the request module\n",
    "    page = requests.get(f'https://www.airlinequality.com/airline-reviews/british-airways/page{i}?sortby=post_date%3ADesc&pagesize=100')\n",
    "    \n",
    "    # create a BeautifulSoup instance\n",
    "    soup = BeautifulSoup(page.content, 'lxml')\n",
    "    \n",
    "    # find and collect the reviews using its specified tag and class from the html content\n",
    "    for item in soup.find_all('div', class_= 'text_content'):\n",
    "        reviews.append(item.text)\n",
    "    \n",
    "    # find and collect the star rating using its specified tag and class from the html\n",
    "    for item in soup.find_all('div', class_='rating-10'):\n",
    "        try:\n",
    "            stars.append(item.span.text)\n",
    "        except:\n",
    "            print(f'Error on page{i}')\n",
    "            stars.append('None')\n",
    "            \n",
    "    # find and collect the date of the reviews using its specified tag from the html\n",
    "    for item in soup.find_all('time'):\n",
    "        date.append(item.text)\n",
    "        \n",
    "    # find and collect the country of the reviewer using its specified tag from the html\n",
    "    for item in soup.find_all('h3'):\n",
    "        country.append(item.span.next_sibling.text.strip(\" ()\"))"
   ]
  },
  {
   "cell_type": "code",
   "execution_count": 18,
   "id": "401dce72",
   "metadata": {},
   "outputs": [
    {
     "data": {
      "text/plain": [
       "7000"
      ]
     },
     "execution_count": 18,
     "metadata": {},
     "output_type": "execute_result"
    }
   ],
   "source": [
    "# show length of reviews\n",
    "len(reviews)"
   ]
  },
  {
   "cell_type": "code",
   "execution_count": 19,
   "id": "c45a5fcd",
   "metadata": {},
   "outputs": [
    {
     "data": {
      "text/plain": [
       "7000"
      ]
     },
     "execution_count": 19,
     "metadata": {},
     "output_type": "execute_result"
    }
   ],
   "source": [
    "# show length of reviews\n",
    "len(country)"
   ]
  },
  {
   "cell_type": "code",
   "execution_count": null,
   "id": "3703f243",
   "metadata": {},
   "outputs": [],
   "source": [
    "# show length of reviews\n",
    "stars = stars[:7000]"
   ]
  },
  {
   "cell_type": "markdown",
   "id": "bba3db1f",
   "metadata": {},
   "source": [
    "### Create a DataFrame from the collected data"
   ]
  },
  {
   "cell_type": "code",
   "execution_count": 24,
   "id": "25d61e73",
   "metadata": {},
   "outputs": [],
   "source": [
    "df = pd.DataFrame({\"reviews\":reviews, \"stars\":stars, \"date\":date, \"country\":country })"
   ]
  },
  {
   "cell_type": "code",
   "execution_count": 25,
   "id": "4c0b1276",
   "metadata": {},
   "outputs": [
    {
     "data": {
      "text/html": [
       "<div>\n",
       "<style scoped>\n",
       "    .dataframe tbody tr th:only-of-type {\n",
       "        vertical-align: middle;\n",
       "    }\n",
       "\n",
       "    .dataframe tbody tr th {\n",
       "        vertical-align: top;\n",
       "    }\n",
       "\n",
       "    .dataframe thead th {\n",
       "        text-align: right;\n",
       "    }\n",
       "</style>\n",
       "<table border=\"1\" class=\"dataframe\">\n",
       "  <thead>\n",
       "    <tr style=\"text-align: right;\">\n",
       "      <th></th>\n",
       "      <th>reviews</th>\n",
       "      <th>stars</th>\n",
       "      <th>date</th>\n",
       "      <th>country</th>\n",
       "    </tr>\n",
       "  </thead>\n",
       "  <tbody>\n",
       "    <tr>\n",
       "      <th>0</th>\n",
       "      <td>Not Verified |  They changed our Flights from ...</td>\n",
       "      <td>\\n\\t\\t\\t\\t\\t\\t\\t\\t\\t\\t\\t\\t\\t5</td>\n",
       "      <td>18th April 2023</td>\n",
       "      <td>United States</td>\n",
       "    </tr>\n",
       "    <tr>\n",
       "      <th>1</th>\n",
       "      <td>Not Verified |  At Copenhagen the most chaotic...</td>\n",
       "      <td>2</td>\n",
       "      <td>18th April 2023</td>\n",
       "      <td>United States</td>\n",
       "    </tr>\n",
       "    <tr>\n",
       "      <th>2</th>\n",
       "      <td>✅ Trip Verified |  Worst experience of my life...</td>\n",
       "      <td>5</td>\n",
       "      <td>17th April 2023</td>\n",
       "      <td>United States</td>\n",
       "    </tr>\n",
       "    <tr>\n",
       "      <th>3</th>\n",
       "      <td>✅ Trip Verified |  Due to code sharing with Ca...</td>\n",
       "      <td>1</td>\n",
       "      <td>17th April 2023</td>\n",
       "      <td>Hong Kong</td>\n",
       "    </tr>\n",
       "    <tr>\n",
       "      <th>4</th>\n",
       "      <td>✅ Trip Verified |  LHR check in was quick at t...</td>\n",
       "      <td>3</td>\n",
       "      <td>16th April 2023</td>\n",
       "      <td>United Kingdom</td>\n",
       "    </tr>\n",
       "  </tbody>\n",
       "</table>\n",
       "</div>"
      ],
      "text/plain": [
       "                                             reviews  \\\n",
       "0  Not Verified |  They changed our Flights from ...   \n",
       "1  Not Verified |  At Copenhagen the most chaotic...   \n",
       "2  ✅ Trip Verified |  Worst experience of my life...   \n",
       "3  ✅ Trip Verified |  Due to code sharing with Ca...   \n",
       "4  ✅ Trip Verified |  LHR check in was quick at t...   \n",
       "\n",
       "                           stars             date         country  \n",
       "0  \\n\\t\\t\\t\\t\\t\\t\\t\\t\\t\\t\\t\\t\\t5  18th April 2023   United States  \n",
       "1                              2  18th April 2023   United States  \n",
       "2                              5  17th April 2023   United States  \n",
       "3                              1  17th April 2023       Hong Kong  \n",
       "4                              3  16th April 2023  United Kingdom  "
      ]
     },
     "execution_count": 25,
     "metadata": {},
     "output_type": "execute_result"
    }
   ],
   "source": [
    "# display the first 5 rows\n",
    "# display the first 5 rowsdf.head()"
   ]
  },
  {
   "cell_type": "code",
   "execution_count": 26,
   "id": "d4a884b0",
   "metadata": {},
   "outputs": [
    {
     "data": {
      "text/html": [
       "<div>\n",
       "<style scoped>\n",
       "    .dataframe tbody tr th:only-of-type {\n",
       "        vertical-align: middle;\n",
       "    }\n",
       "\n",
       "    .dataframe tbody tr th {\n",
       "        vertical-align: top;\n",
       "    }\n",
       "\n",
       "    .dataframe thead th {\n",
       "        text-align: right;\n",
       "    }\n",
       "</style>\n",
       "<table border=\"1\" class=\"dataframe\">\n",
       "  <thead>\n",
       "    <tr style=\"text-align: right;\">\n",
       "      <th></th>\n",
       "      <th>reviews</th>\n",
       "      <th>stars</th>\n",
       "      <th>date</th>\n",
       "      <th>country</th>\n",
       "    </tr>\n",
       "  </thead>\n",
       "  <tbody>\n",
       "    <tr>\n",
       "      <th>6995</th>\n",
       "      <td>Once again a good flight from LHR to Warsaw in...</td>\n",
       "      <td>10</td>\n",
       "      <td>11th May 2014</td>\n",
       "      <td>United Kingdom</td>\n",
       "    </tr>\n",
       "    <tr>\n",
       "      <th>6996</th>\n",
       "      <td>LGW-MRU-LGW in business. Outbound flight good ...</td>\n",
       "      <td>8</td>\n",
       "      <td>11th May 2014</td>\n",
       "      <td>United Kingdom</td>\n",
       "    </tr>\n",
       "    <tr>\n",
       "      <th>6997</th>\n",
       "      <td>LHR-FRA-LCY May 2014. LHR-FRA on a 767 row 18....</td>\n",
       "      <td>10</td>\n",
       "      <td>11th May 2014</td>\n",
       "      <td>United Kingdom</td>\n",
       "    </tr>\n",
       "    <tr>\n",
       "      <th>6998</th>\n",
       "      <td>Rating : 10/10 Cabin Flown Economy Value for M...</td>\n",
       "      <td>1</td>\n",
       "      <td>11th May 2014</td>\n",
       "      <td>United Kingdom</td>\n",
       "    </tr>\n",
       "    <tr>\n",
       "      <th>6999</th>\n",
       "      <td>08/5/2014 JFK-LHR-BRU. After the perfect outbo...</td>\n",
       "      <td>9</td>\n",
       "      <td>11th May 2014</td>\n",
       "      <td>Belgium</td>\n",
       "    </tr>\n",
       "  </tbody>\n",
       "</table>\n",
       "</div>"
      ],
      "text/plain": [
       "                                                reviews stars           date  \\\n",
       "6995  Once again a good flight from LHR to Warsaw in...    10  11th May 2014   \n",
       "6996  LGW-MRU-LGW in business. Outbound flight good ...     8  11th May 2014   \n",
       "6997  LHR-FRA-LCY May 2014. LHR-FRA on a 767 row 18....    10  11th May 2014   \n",
       "6998  Rating : 10/10 Cabin Flown Economy Value for M...     1  11th May 2014   \n",
       "6999  08/5/2014 JFK-LHR-BRU. After the perfect outbo...     9  11th May 2014   \n",
       "\n",
       "             country  \n",
       "6995  United Kingdom  \n",
       "6996  United Kingdom  \n",
       "6997  United Kingdom  \n",
       "6998  United Kingdom  \n",
       "6999         Belgium  "
      ]
     },
     "execution_count": 26,
     "metadata": {},
     "output_type": "execute_result"
    }
   ],
   "source": [
    "# display the last 5 rows\n",
    "df.tail()"
   ]
  },
  {
   "cell_type": "code",
   "execution_count": 27,
   "id": "1d42897c",
   "metadata": {},
   "outputs": [
    {
     "data": {
      "text/plain": [
       "(7000, 4)"
      ]
     },
     "execution_count": 27,
     "metadata": {},
     "output_type": "execute_result"
    }
   ],
   "source": [
    "# display the shape - number of rows and columns of the DataFrame\n",
    "df.shape"
   ]
  },
  {
   "cell_type": "markdown",
   "id": "6c57632b",
   "metadata": {},
   "source": [
    "### Export the data into a csv format"
   ]
  },
  {
   "cell_type": "code",
   "execution_count": 28,
   "id": "ba531dc5",
   "metadata": {},
   "outputs": [],
   "source": [
    "# the OS module in Python provides functions for interacting with the operating system.\n",
    "import os"
   ]
  },
  {
   "cell_type": "code",
   "execution_count": 29,
   "id": "8d49283c",
   "metadata": {},
   "outputs": [],
   "source": [
    "# getcwd() method tells us the location of current working directory (CWD)\n",
    "cwd = os.getcwd()\n",
    "df.to_csv(cwd+ '/BA_reviews.csv')"
   ]
  },
  {
   "cell_type": "code",
   "execution_count": null,
   "id": "5dce1e78",
   "metadata": {},
   "outputs": [],
   "source": []
  }
 ],
 "metadata": {
  "kernelspec": {
   "display_name": "Python 3 (ipykernel)",
   "language": "python",
   "name": "python3"
  },
  "language_info": {
   "codemirror_mode": {
    "name": "ipython",
    "version": 3
   },
   "file_extension": ".py",
   "mimetype": "text/x-python",
   "name": "python",
   "nbconvert_exporter": "python",
   "pygments_lexer": "ipython3",
   "version": "3.9.12"
  }
 },
 "nbformat": 4,
 "nbformat_minor": 5
}
