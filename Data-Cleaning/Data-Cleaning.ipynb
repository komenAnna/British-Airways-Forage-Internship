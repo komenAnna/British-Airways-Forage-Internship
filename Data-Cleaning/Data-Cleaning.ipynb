{
 "cells": [
  {
   "cell_type": "markdown",
   "id": "b74a7197",
   "metadata": {},
   "source": [
    "# Data Cleaning\n",
    "\n",
    "### After the data collection, it needs to be cleaned to make the data analysis easier & possible."
   ]
  },
  {
   "cell_type": "code",
   "execution_count": 1,
   "id": "70e9ad7a",
   "metadata": {},
   "outputs": [],
   "source": [
    "import pandas as pd\n",
    "import numpy as np\n",
    "import matplotlib.pyplot as plt\n",
    "import seaborn as sns\n",
    "import os\n",
    "\n",
    "# import regex\n",
    "import re\n",
    "# Regular Expressions (RegEx) is a special sequence of characters that uses a search pattern to find a string or set of strings.\n",
    "# It can detect the presence or absence of a text by matching it with a particular pattern, \n",
    "# and also can split a pattern into one or more sub-patterns. \n",
    "# Python provides a re module that supports the use of regex in Python. \n",
    "# Its primary function is to offer a search, where it takes a regular expression and a string. "
   ]
  },
  {
   "cell_type": "code",
   "execution_count": 2,
   "id": "3a1ed5ca",
   "metadata": {},
   "outputs": [
    {
     "data": {
      "text/html": [
       "<div>\n",
       "<style scoped>\n",
       "    .dataframe tbody tr th:only-of-type {\n",
       "        vertical-align: middle;\n",
       "    }\n",
       "\n",
       "    .dataframe tbody tr th {\n",
       "        vertical-align: top;\n",
       "    }\n",
       "\n",
       "    .dataframe thead th {\n",
       "        text-align: right;\n",
       "    }\n",
       "</style>\n",
       "<table border=\"1\" class=\"dataframe\">\n",
       "  <thead>\n",
       "    <tr style=\"text-align: right;\">\n",
       "      <th></th>\n",
       "      <th>reviews</th>\n",
       "      <th>stars</th>\n",
       "      <th>date</th>\n",
       "      <th>country</th>\n",
       "    </tr>\n",
       "  </thead>\n",
       "  <tbody>\n",
       "    <tr>\n",
       "      <th>0</th>\n",
       "      <td>Not Verified |  They changed our Flights from ...</td>\n",
       "      <td>\\n\\t\\t\\t\\t\\t\\t\\t\\t\\t\\t\\t\\t\\t5</td>\n",
       "      <td>18th April 2023</td>\n",
       "      <td>United States</td>\n",
       "    </tr>\n",
       "    <tr>\n",
       "      <th>1</th>\n",
       "      <td>Not Verified |  At Copenhagen the most chaotic...</td>\n",
       "      <td>2</td>\n",
       "      <td>18th April 2023</td>\n",
       "      <td>United States</td>\n",
       "    </tr>\n",
       "    <tr>\n",
       "      <th>2</th>\n",
       "      <td>✅ Trip Verified |  Worst experience of my life...</td>\n",
       "      <td>5</td>\n",
       "      <td>17th April 2023</td>\n",
       "      <td>United States</td>\n",
       "    </tr>\n",
       "    <tr>\n",
       "      <th>3</th>\n",
       "      <td>✅ Trip Verified |  Due to code sharing with Ca...</td>\n",
       "      <td>1</td>\n",
       "      <td>17th April 2023</td>\n",
       "      <td>Hong Kong</td>\n",
       "    </tr>\n",
       "    <tr>\n",
       "      <th>4</th>\n",
       "      <td>✅ Trip Verified |  LHR check in was quick at t...</td>\n",
       "      <td>3</td>\n",
       "      <td>16th April 2023</td>\n",
       "      <td>United Kingdom</td>\n",
       "    </tr>\n",
       "  </tbody>\n",
       "</table>\n",
       "</div>"
      ],
      "text/plain": [
       "                                             reviews  \\\n",
       "0  Not Verified |  They changed our Flights from ...   \n",
       "1  Not Verified |  At Copenhagen the most chaotic...   \n",
       "2  ✅ Trip Verified |  Worst experience of my life...   \n",
       "3  ✅ Trip Verified |  Due to code sharing with Ca...   \n",
       "4  ✅ Trip Verified |  LHR check in was quick at t...   \n",
       "\n",
       "                           stars             date         country  \n",
       "0  \\n\\t\\t\\t\\t\\t\\t\\t\\t\\t\\t\\t\\t\\t5  18th April 2023   United States  \n",
       "1                              2  18th April 2023   United States  \n",
       "2                              5  17th April 2023   United States  \n",
       "3                              1  17th April 2023       Hong Kong  \n",
       "4                              3  16th April 2023  United Kingdom  "
      ]
     },
     "execution_count": 2,
     "metadata": {},
     "output_type": "execute_result"
    }
   ],
   "source": [
    "# Create a dataframe from the csv file\n",
    "cwd = os.getcwd()\n",
    "\n",
    "df = pd.read_csv(cwd+ '/BA_reviews.csv', index_col=0)\n",
    "df.head()"
   ]
  },
  {
   "cell_type": "markdown",
   "id": "f4bdf9d8",
   "metadata": {},
   "source": [
    "#### Create a column that shows if a user is verified or not"
   ]
  },
  {
   "cell_type": "code",
   "execution_count": 3,
   "id": "465593de",
   "metadata": {},
   "outputs": [],
   "source": [
    "# str.contains() function is used to test if pattern or regex is contained within a string of a Series or Index. \n",
    "# The function returns boolean Series or Index based on whether a given pattern or regex \n",
    "# is contained within a string of a Series or Index.\n",
    "\n",
    "# Here, we will create a column that will check if a user is verified or not by checking if the strings in the first column\n",
    "# have a the specified characters or pattern\n",
    "\n",
    "df['Verified'] = df.reviews.str.contains(\"Trip Verified\")"
   ]
  },
  {
   "cell_type": "code",
   "execution_count": 4,
   "id": "746b74ee",
   "metadata": {},
   "outputs": [
    {
     "data": {
      "text/html": [
       "<div>\n",
       "<style scoped>\n",
       "    .dataframe tbody tr th:only-of-type {\n",
       "        vertical-align: middle;\n",
       "    }\n",
       "\n",
       "    .dataframe tbody tr th {\n",
       "        vertical-align: top;\n",
       "    }\n",
       "\n",
       "    .dataframe thead th {\n",
       "        text-align: right;\n",
       "    }\n",
       "</style>\n",
       "<table border=\"1\" class=\"dataframe\">\n",
       "  <thead>\n",
       "    <tr style=\"text-align: right;\">\n",
       "      <th></th>\n",
       "      <th>reviews</th>\n",
       "      <th>stars</th>\n",
       "      <th>date</th>\n",
       "      <th>country</th>\n",
       "      <th>Verified</th>\n",
       "    </tr>\n",
       "  </thead>\n",
       "  <tbody>\n",
       "    <tr>\n",
       "      <th>0</th>\n",
       "      <td>Not Verified |  They changed our Flights from ...</td>\n",
       "      <td>\\n\\t\\t\\t\\t\\t\\t\\t\\t\\t\\t\\t\\t\\t5</td>\n",
       "      <td>18th April 2023</td>\n",
       "      <td>United States</td>\n",
       "      <td>False</td>\n",
       "    </tr>\n",
       "    <tr>\n",
       "      <th>1</th>\n",
       "      <td>Not Verified |  At Copenhagen the most chaotic...</td>\n",
       "      <td>2</td>\n",
       "      <td>18th April 2023</td>\n",
       "      <td>United States</td>\n",
       "      <td>False</td>\n",
       "    </tr>\n",
       "    <tr>\n",
       "      <th>2</th>\n",
       "      <td>✅ Trip Verified |  Worst experience of my life...</td>\n",
       "      <td>5</td>\n",
       "      <td>17th April 2023</td>\n",
       "      <td>United States</td>\n",
       "      <td>True</td>\n",
       "    </tr>\n",
       "    <tr>\n",
       "      <th>3</th>\n",
       "      <td>✅ Trip Verified |  Due to code sharing with Ca...</td>\n",
       "      <td>1</td>\n",
       "      <td>17th April 2023</td>\n",
       "      <td>Hong Kong</td>\n",
       "      <td>True</td>\n",
       "    </tr>\n",
       "    <tr>\n",
       "      <th>4</th>\n",
       "      <td>✅ Trip Verified |  LHR check in was quick at t...</td>\n",
       "      <td>3</td>\n",
       "      <td>16th April 2023</td>\n",
       "      <td>United Kingdom</td>\n",
       "      <td>True</td>\n",
       "    </tr>\n",
       "  </tbody>\n",
       "</table>\n",
       "</div>"
      ],
      "text/plain": [
       "                                             reviews  \\\n",
       "0  Not Verified |  They changed our Flights from ...   \n",
       "1  Not Verified |  At Copenhagen the most chaotic...   \n",
       "2  ✅ Trip Verified |  Worst experience of my life...   \n",
       "3  ✅ Trip Verified |  Due to code sharing with Ca...   \n",
       "4  ✅ Trip Verified |  LHR check in was quick at t...   \n",
       "\n",
       "                           stars             date         country  Verified  \n",
       "0  \\n\\t\\t\\t\\t\\t\\t\\t\\t\\t\\t\\t\\t\\t5  18th April 2023   United States     False  \n",
       "1                              2  18th April 2023   United States     False  \n",
       "2                              5  17th April 2023   United States      True  \n",
       "3                              1  17th April 2023       Hong Kong      True  \n",
       "4                              3  16th April 2023  United Kingdom      True  "
      ]
     },
     "execution_count": 4,
     "metadata": {},
     "output_type": "execute_result"
    }
   ],
   "source": [
    "df.head()"
   ]
  },
  {
   "cell_type": "code",
   "execution_count": 5,
   "id": "faa876ed",
   "metadata": {},
   "outputs": [],
   "source": [
    "df['reviews'] = df.reviews.str.split('|', expand=True)[1]"
   ]
  },
  {
   "cell_type": "code",
   "execution_count": 6,
   "id": "15d1a3fb",
   "metadata": {},
   "outputs": [
    {
     "data": {
      "text/html": [
       "<div>\n",
       "<style scoped>\n",
       "    .dataframe tbody tr th:only-of-type {\n",
       "        vertical-align: middle;\n",
       "    }\n",
       "\n",
       "    .dataframe tbody tr th {\n",
       "        vertical-align: top;\n",
       "    }\n",
       "\n",
       "    .dataframe thead th {\n",
       "        text-align: right;\n",
       "    }\n",
       "</style>\n",
       "<table border=\"1\" class=\"dataframe\">\n",
       "  <thead>\n",
       "    <tr style=\"text-align: right;\">\n",
       "      <th></th>\n",
       "      <th>reviews</th>\n",
       "      <th>stars</th>\n",
       "      <th>date</th>\n",
       "      <th>country</th>\n",
       "      <th>Verified</th>\n",
       "    </tr>\n",
       "  </thead>\n",
       "  <tbody>\n",
       "    <tr>\n",
       "      <th>0</th>\n",
       "      <td>They changed our Flights from Brussels to Lo...</td>\n",
       "      <td>\\n\\t\\t\\t\\t\\t\\t\\t\\t\\t\\t\\t\\t\\t5</td>\n",
       "      <td>18th April 2023</td>\n",
       "      <td>United States</td>\n",
       "      <td>False</td>\n",
       "    </tr>\n",
       "    <tr>\n",
       "      <th>1</th>\n",
       "      <td>At Copenhagen the most chaotic ticket counte...</td>\n",
       "      <td>2</td>\n",
       "      <td>18th April 2023</td>\n",
       "      <td>United States</td>\n",
       "      <td>False</td>\n",
       "    </tr>\n",
       "    <tr>\n",
       "      <th>2</th>\n",
       "      <td>Worst experience of my life trying to deal w...</td>\n",
       "      <td>5</td>\n",
       "      <td>17th April 2023</td>\n",
       "      <td>United States</td>\n",
       "      <td>True</td>\n",
       "    </tr>\n",
       "    <tr>\n",
       "      <th>3</th>\n",
       "      <td>Due to code sharing with Cathay Pacific I wa...</td>\n",
       "      <td>1</td>\n",
       "      <td>17th April 2023</td>\n",
       "      <td>Hong Kong</td>\n",
       "      <td>True</td>\n",
       "    </tr>\n",
       "    <tr>\n",
       "      <th>4</th>\n",
       "      <td>LHR check in was quick at the First Wing and...</td>\n",
       "      <td>3</td>\n",
       "      <td>16th April 2023</td>\n",
       "      <td>United Kingdom</td>\n",
       "      <td>True</td>\n",
       "    </tr>\n",
       "  </tbody>\n",
       "</table>\n",
       "</div>"
      ],
      "text/plain": [
       "                                             reviews  \\\n",
       "0    They changed our Flights from Brussels to Lo...   \n",
       "1    At Copenhagen the most chaotic ticket counte...   \n",
       "2    Worst experience of my life trying to deal w...   \n",
       "3    Due to code sharing with Cathay Pacific I wa...   \n",
       "4    LHR check in was quick at the First Wing and...   \n",
       "\n",
       "                           stars             date         country  Verified  \n",
       "0  \\n\\t\\t\\t\\t\\t\\t\\t\\t\\t\\t\\t\\t\\t5  18th April 2023   United States     False  \n",
       "1                              2  18th April 2023   United States     False  \n",
       "2                              5  17th April 2023   United States      True  \n",
       "3                              1  17th April 2023       Hong Kong      True  \n",
       "4                              3  16th April 2023  United Kingdom      True  "
      ]
     },
     "execution_count": 6,
     "metadata": {},
     "output_type": "execute_result"
    }
   ],
   "source": [
    "df.head()"
   ]
  },
  {
   "cell_type": "code",
   "execution_count": 7,
   "id": "d852f2e3",
   "metadata": {},
   "outputs": [
    {
     "data": {
      "text/plain": [
       "reviews     2984\n",
       "stars          0\n",
       "date           0\n",
       "country        4\n",
       "Verified       0\n",
       "dtype: int64"
      ]
     },
     "execution_count": 7,
     "metadata": {},
     "output_type": "execute_result"
    }
   ],
   "source": [
    "df.isna().sum()"
   ]
  },
  {
   "cell_type": "code",
   "execution_count": 8,
   "id": "be0f45f7",
   "metadata": {},
   "outputs": [],
   "source": [
    "df.dropna(axis=0, inplace=True)"
   ]
  },
  {
   "cell_type": "code",
   "execution_count": 9,
   "id": "a317e09f",
   "metadata": {},
   "outputs": [
    {
     "name": "stdout",
     "output_type": "stream",
     "text": [
      "<class 'pandas.core.frame.DataFrame'>\n",
      "Int64Index: 4016 entries, 0 to 6649\n",
      "Data columns (total 5 columns):\n",
      " #   Column    Non-Null Count  Dtype \n",
      "---  ------    --------------  ----- \n",
      " 0   reviews   4016 non-null   object\n",
      " 1   stars     4016 non-null   object\n",
      " 2   date      4016 non-null   object\n",
      " 3   country   4016 non-null   object\n",
      " 4   Verified  4016 non-null   bool  \n",
      "dtypes: bool(1), object(4)\n",
      "memory usage: 160.8+ KB\n"
     ]
    }
   ],
   "source": [
    "df.info()"
   ]
  },
  {
   "cell_type": "code",
   "execution_count": 10,
   "id": "c4e4615a",
   "metadata": {},
   "outputs": [
    {
     "data": {
      "text/html": [
       "<div>\n",
       "<style scoped>\n",
       "    .dataframe tbody tr th:only-of-type {\n",
       "        vertical-align: middle;\n",
       "    }\n",
       "\n",
       "    .dataframe tbody tr th {\n",
       "        vertical-align: top;\n",
       "    }\n",
       "\n",
       "    .dataframe thead th {\n",
       "        text-align: right;\n",
       "    }\n",
       "</style>\n",
       "<table border=\"1\" class=\"dataframe\">\n",
       "  <thead>\n",
       "    <tr style=\"text-align: right;\">\n",
       "      <th></th>\n",
       "      <th>reviews</th>\n",
       "      <th>stars</th>\n",
       "      <th>date</th>\n",
       "      <th>country</th>\n",
       "      <th>Verified</th>\n",
       "    </tr>\n",
       "  </thead>\n",
       "  <tbody>\n",
       "    <tr>\n",
       "      <th>0</th>\n",
       "      <td>They changed our Flights from Brussels to Lo...</td>\n",
       "      <td>\\n\\t\\t\\t\\t\\t\\t\\t\\t\\t\\t\\t\\t\\t5</td>\n",
       "      <td>18th April 2023</td>\n",
       "      <td>United States</td>\n",
       "      <td>False</td>\n",
       "    </tr>\n",
       "    <tr>\n",
       "      <th>1</th>\n",
       "      <td>At Copenhagen the most chaotic ticket counte...</td>\n",
       "      <td>2</td>\n",
       "      <td>18th April 2023</td>\n",
       "      <td>United States</td>\n",
       "      <td>False</td>\n",
       "    </tr>\n",
       "    <tr>\n",
       "      <th>2</th>\n",
       "      <td>Worst experience of my life trying to deal w...</td>\n",
       "      <td>5</td>\n",
       "      <td>17th April 2023</td>\n",
       "      <td>United States</td>\n",
       "      <td>True</td>\n",
       "    </tr>\n",
       "    <tr>\n",
       "      <th>3</th>\n",
       "      <td>Due to code sharing with Cathay Pacific I wa...</td>\n",
       "      <td>1</td>\n",
       "      <td>17th April 2023</td>\n",
       "      <td>Hong Kong</td>\n",
       "      <td>True</td>\n",
       "    </tr>\n",
       "    <tr>\n",
       "      <th>4</th>\n",
       "      <td>LHR check in was quick at the First Wing and...</td>\n",
       "      <td>3</td>\n",
       "      <td>16th April 2023</td>\n",
       "      <td>United Kingdom</td>\n",
       "      <td>True</td>\n",
       "    </tr>\n",
       "  </tbody>\n",
       "</table>\n",
       "</div>"
      ],
      "text/plain": [
       "                                             reviews  \\\n",
       "0    They changed our Flights from Brussels to Lo...   \n",
       "1    At Copenhagen the most chaotic ticket counte...   \n",
       "2    Worst experience of my life trying to deal w...   \n",
       "3    Due to code sharing with Cathay Pacific I wa...   \n",
       "4    LHR check in was quick at the First Wing and...   \n",
       "\n",
       "                           stars             date         country  Verified  \n",
       "0  \\n\\t\\t\\t\\t\\t\\t\\t\\t\\t\\t\\t\\t\\t5  18th April 2023   United States     False  \n",
       "1                              2  18th April 2023   United States     False  \n",
       "2                              5  17th April 2023   United States      True  \n",
       "3                              1  17th April 2023       Hong Kong      True  \n",
       "4                              3  16th April 2023  United Kingdom      True  "
      ]
     },
     "execution_count": 10,
     "metadata": {},
     "output_type": "execute_result"
    }
   ],
   "source": [
    "df.head()"
   ]
  },
  {
   "cell_type": "markdown",
   "id": "8ed96066",
   "metadata": {},
   "source": [
    "### Cleaning the 'Reviews' Column\n",
    "\n",
    "#### We will extract the 'reviews' column into a separate dataframe and prepare it for sentiment analysis.\n",
    "#### Sentiment analysis is the technique we expect our machine to extract logic and meaning from natural language text.\n",
    "#### It allows the computer to interpret the language structure and grammatical format and and identifies the relationship btwn words thus creating meaning.\n",
    "\n",
    "#### Lemmatization - one of the most common text pre-processing techniques used in NLP and ML models to break down a word to its root in order to identify similarities. For example, a lemmatization algorithm would reduce the word better to its root word, or lemme, good. \n",
    "\n",
    "#### NLTK, or Natural Language Toolkit, is a Python package that you can use for NLP. It is a standard python library with prebuilt functions and utilities for the ease of use and implementation. It is one of the most used libraries for natural language processing and computational linguistics.\n",
    "\n",
    "####  A corpus is a collection of authentic text or audio organized into datasets. 'Authentic' in this case means text written or audio spoken by a native of the language or dialect."
   ]
  },
  {
   "cell_type": "code",
   "execution_count": 11,
   "id": "9a8de336",
   "metadata": {},
   "outputs": [
    {
     "name": "stdout",
     "output_type": "stream",
     "text": [
      "Requirement already satisfied: nltk in c:\\users\\admin\\anaconda3\\lib\\site-packages (3.7)\n",
      "Requirement already satisfied: click in c:\\users\\admin\\anaconda3\\lib\\site-packages (from nltk) (8.0.4)\n",
      "Requirement already satisfied: joblib in c:\\users\\admin\\anaconda3\\lib\\site-packages (from nltk) (1.1.0)\n",
      "Requirement already satisfied: tqdm in c:\\users\\admin\\anaconda3\\lib\\site-packages (from nltk) (4.64.0)\n",
      "Requirement already satisfied: regex>=2021.8.3 in c:\\users\\admin\\anaconda3\\lib\\site-packages (from nltk) (2022.3.15)\n",
      "Requirement already satisfied: colorama in c:\\users\\admin\\anaconda3\\lib\\site-packages (from click->nltk) (0.4.4)\n",
      "Note: you may need to restart the kernel to use updated packages.\n"
     ]
    }
   ],
   "source": [
    "pip install nltk"
   ]
  },
  {
   "cell_type": "code",
   "execution_count": 12,
   "id": "6dd464bd",
   "metadata": {},
   "outputs": [
    {
     "name": "stderr",
     "output_type": "stream",
     "text": [
      "[nltk_data] Downloading package wordnet to\n",
      "[nltk_data]     C:\\Users\\admin\\AppData\\Roaming\\nltk_data...\n",
      "[nltk_data]   Package wordnet is already up-to-date!\n",
      "[nltk_data] Downloading package stopwords to\n",
      "[nltk_data]     C:\\Users\\admin\\AppData\\Roaming\\nltk_data...\n",
      "[nltk_data]   Package stopwords is already up-to-date!\n"
     ]
    },
    {
     "data": {
      "text/plain": [
       "True"
      ]
     },
     "execution_count": 12,
     "metadata": {},
     "output_type": "execute_result"
    }
   ],
   "source": [
    "import nltk\n",
    "nltk.download('wordnet')\n",
    "nltk.download('stopwords')"
   ]
  },
  {
   "cell_type": "code",
   "execution_count": 13,
   "id": "e6adc719",
   "metadata": {},
   "outputs": [
    {
     "name": "stderr",
     "output_type": "stream",
     "text": [
      "[nltk_data] Downloading package omw-1.4 to\n",
      "[nltk_data]     C:\\Users\\admin\\AppData\\Roaming\\nltk_data...\n",
      "[nltk_data]   Package omw-1.4 is already up-to-date!\n"
     ]
    },
    {
     "data": {
      "text/plain": [
       "True"
      ]
     },
     "execution_count": 13,
     "metadata": {},
     "output_type": "execute_result"
    }
   ],
   "source": [
    "nltk.download('omw-1.4')"
   ]
  },
  {
   "cell_type": "markdown",
   "id": "32069836",
   "metadata": {},
   "source": [
    "##### Cleaning the 'Reviews' Column\n",
    "We will extract the 'reviews' column into a separate dataframe and prepare it for sentiment analysis.v"
   ]
  },
  {
   "cell_type": "code",
   "execution_count": 14,
   "id": "a9d12038",
   "metadata": {},
   "outputs": [
    {
     "data": {
      "text/plain": [
       "'  They changed our Flights from Brussels to London Heathrow to LAX on 4/16/2023. We paid extra to choose our seats. Since they cancelled they never honored the seat that we bought, they seated us in totally different seats. I asked the check in employee, she was very rude and told us that we have to understand that was a different flight. From London to LAX was worse, nobody in the airport help us. Employees from BA told us that we have to return next day for our flight we can rent a hotel or go terminal 3 and sleep there. Finally one employee help us and gives a voucher for hotel. It was a nightmare this airline. We missed one day work and BA didn’t return the money that we paid for our previous chosen seats.'"
      ]
     },
     "execution_count": 14,
     "metadata": {},
     "output_type": "execute_result"
    }
   ],
   "source": [
    "# Check the first review to see words and haracters\n",
    "df['reviews'].loc[0]"
   ]
  },
  {
   "cell_type": "code",
   "execution_count": 15,
   "id": "350fa228",
   "metadata": {},
   "outputs": [
    {
     "data": {
      "text/plain": [
       "0         They changed our Flights from Brussels to Lo...\n",
       "1         At Copenhagen the most chaotic ticket counte...\n",
       "2         Worst experience of my life trying to deal w...\n",
       "3         Due to code sharing with Cathay Pacific I wa...\n",
       "4         LHR check in was quick at the First Wing and...\n",
       "                              ...                        \n",
       "5676      London Heathrow to Houston on British Airway...\n",
       "5677      We have flown with British Airways over 100 ...\n",
       "5678      British Airways from Seattle to Johannesburg...\n",
       "5680      Gatwick to Amsterdam in Business class was t...\n",
       "6649    ) I did not see the attendants down our aisle ...\n",
       "Name: reviews, Length: 4016, dtype: object"
      ]
     },
     "execution_count": 15,
     "metadata": {},
     "output_type": "execute_result"
    }
   ],
   "source": [
    "# extract the column from the dataframe and store in a variable\n",
    "reviews_data = df.reviews\n",
    "reviews_data"
   ]
  },
  {
   "cell_type": "code",
   "execution_count": 28,
   "id": "997be911",
   "metadata": {},
   "outputs": [],
   "source": [
    "from nltk.stem import WordNetLemmatizer\n",
    "from nltk.corpus import stopwords\n",
    "lemma = WordNetLemmatizer()\n",
    "\n",
    "# create a list to store the cleaned reviews data\n",
    "corpus = []\n",
    "\n",
    "for review in reviews_data:\n",
    "    #remove special characters and digits\n",
    "    review = re.sub('[^A-Za-z]+', ' ', str(review))\n",
    "    #lowercase\n",
    "    review = review.lower()\n",
    "    #split the text data to impose lemmatization\n",
    "    review = review.split()\n",
    "    #lemmatize the splitted word(s) and remove stopwords\n",
    "    review = [lemma.lemmatize(word) for word in review if word not in set(stopwords.words(\"english\"))]\n",
    "    #join back the splitted text\n",
    "    review = ' '.join(review)\n",
    "    # append the cleaned data to corpus\n",
    "    corpus.append(review)"
   ]
  },
  {
   "cell_type": "code",
   "execution_count": 29,
   "id": "79f7ab47",
   "metadata": {},
   "outputs": [
    {
     "data": {
      "text/html": [
       "<div>\n",
       "<style scoped>\n",
       "    .dataframe tbody tr th:only-of-type {\n",
       "        vertical-align: middle;\n",
       "    }\n",
       "\n",
       "    .dataframe tbody tr th {\n",
       "        vertical-align: top;\n",
       "    }\n",
       "\n",
       "    .dataframe thead th {\n",
       "        text-align: right;\n",
       "    }\n",
       "</style>\n",
       "<table border=\"1\" class=\"dataframe\">\n",
       "  <thead>\n",
       "    <tr style=\"text-align: right;\">\n",
       "      <th></th>\n",
       "      <th>reviews</th>\n",
       "      <th>stars</th>\n",
       "      <th>date</th>\n",
       "      <th>country</th>\n",
       "      <th>Verified</th>\n",
       "      <th>cleaned data</th>\n",
       "    </tr>\n",
       "  </thead>\n",
       "  <tbody>\n",
       "    <tr>\n",
       "      <th>0</th>\n",
       "      <td>They changed our Flights from Brussels to Lo...</td>\n",
       "      <td>5</td>\n",
       "      <td>2023-04-18</td>\n",
       "      <td>United States</td>\n",
       "      <td>False</td>\n",
       "      <td>changed flight brussels london heathrow lax pa...</td>\n",
       "    </tr>\n",
       "    <tr>\n",
       "      <th>1</th>\n",
       "      <td>At Copenhagen the most chaotic ticket counte...</td>\n",
       "      <td>2</td>\n",
       "      <td>2023-04-18</td>\n",
       "      <td>United States</td>\n",
       "      <td>False</td>\n",
       "      <td>copenhagen chaotic ticket counter assignment h...</td>\n",
       "    </tr>\n",
       "    <tr>\n",
       "      <th>2</th>\n",
       "      <td>Worst experience of my life trying to deal w...</td>\n",
       "      <td>5</td>\n",
       "      <td>2023-04-17</td>\n",
       "      <td>United States</td>\n",
       "      <td>True</td>\n",
       "      <td>worst experience life trying deal customer ser...</td>\n",
       "    </tr>\n",
       "    <tr>\n",
       "      <th>3</th>\n",
       "      <td>Due to code sharing with Cathay Pacific I wa...</td>\n",
       "      <td>1</td>\n",
       "      <td>2023-04-17</td>\n",
       "      <td>Hong Kong</td>\n",
       "      <td>True</td>\n",
       "      <td>due code sharing cathay pacific downgraded ba ...</td>\n",
       "    </tr>\n",
       "    <tr>\n",
       "      <th>4</th>\n",
       "      <td>LHR check in was quick at the First Wing and...</td>\n",
       "      <td>3</td>\n",
       "      <td>2023-04-16</td>\n",
       "      <td>United Kingdom</td>\n",
       "      <td>True</td>\n",
       "      <td>lhr check quick first wing quickly security fi...</td>\n",
       "    </tr>\n",
       "  </tbody>\n",
       "</table>\n",
       "</div>"
      ],
      "text/plain": [
       "                                             reviews stars       date  \\\n",
       "0    They changed our Flights from Brussels to Lo...     5 2023-04-18   \n",
       "1    At Copenhagen the most chaotic ticket counte...     2 2023-04-18   \n",
       "2    Worst experience of my life trying to deal w...     5 2023-04-17   \n",
       "3    Due to code sharing with Cathay Pacific I wa...     1 2023-04-17   \n",
       "4    LHR check in was quick at the First Wing and...     3 2023-04-16   \n",
       "\n",
       "          country  Verified                                       cleaned data  \n",
       "0   United States     False  changed flight brussels london heathrow lax pa...  \n",
       "1   United States     False  copenhagen chaotic ticket counter assignment h...  \n",
       "2   United States      True  worst experience life trying deal customer ser...  \n",
       "3       Hong Kong      True  due code sharing cathay pacific downgraded ba ...  \n",
       "4  United Kingdom      True  lhr check quick first wing quickly security fi...  "
      ]
     },
     "execution_count": 29,
     "metadata": {},
     "output_type": "execute_result"
    }
   ],
   "source": [
    "# add corpus as a column to the df\n",
    "df['cleaned data'] = corpus\n",
    "df.head()"
   ]
  },
  {
   "cell_type": "markdown",
   "id": "03335e2e",
   "metadata": {},
   "source": [
    "#### Clean the stars column"
   ]
  },
  {
   "cell_type": "code",
   "execution_count": 19,
   "id": "96977e17",
   "metadata": {},
   "outputs": [
    {
     "data": {
      "text/html": [
       "<div>\n",
       "<style scoped>\n",
       "    .dataframe tbody tr th:only-of-type {\n",
       "        vertical-align: middle;\n",
       "    }\n",
       "\n",
       "    .dataframe tbody tr th {\n",
       "        vertical-align: top;\n",
       "    }\n",
       "\n",
       "    .dataframe thead th {\n",
       "        text-align: right;\n",
       "    }\n",
       "</style>\n",
       "<table border=\"1\" class=\"dataframe\">\n",
       "  <thead>\n",
       "    <tr style=\"text-align: right;\">\n",
       "      <th></th>\n",
       "      <th>reviews</th>\n",
       "      <th>stars</th>\n",
       "      <th>date</th>\n",
       "      <th>country</th>\n",
       "      <th>Verified</th>\n",
       "    </tr>\n",
       "  </thead>\n",
       "  <tbody>\n",
       "    <tr>\n",
       "      <th>0</th>\n",
       "      <td>They changed our Flights from Brussels to Lo...</td>\n",
       "      <td>\\n\\t\\t\\t\\t\\t\\t\\t\\t\\t\\t\\t\\t\\t5</td>\n",
       "      <td>18th April 2023</td>\n",
       "      <td>United States</td>\n",
       "      <td>False</td>\n",
       "    </tr>\n",
       "    <tr>\n",
       "      <th>1</th>\n",
       "      <td>At Copenhagen the most chaotic ticket counte...</td>\n",
       "      <td>2</td>\n",
       "      <td>18th April 2023</td>\n",
       "      <td>United States</td>\n",
       "      <td>False</td>\n",
       "    </tr>\n",
       "    <tr>\n",
       "      <th>2</th>\n",
       "      <td>Worst experience of my life trying to deal w...</td>\n",
       "      <td>5</td>\n",
       "      <td>17th April 2023</td>\n",
       "      <td>United States</td>\n",
       "      <td>True</td>\n",
       "    </tr>\n",
       "    <tr>\n",
       "      <th>3</th>\n",
       "      <td>Due to code sharing with Cathay Pacific I wa...</td>\n",
       "      <td>1</td>\n",
       "      <td>17th April 2023</td>\n",
       "      <td>Hong Kong</td>\n",
       "      <td>True</td>\n",
       "    </tr>\n",
       "    <tr>\n",
       "      <th>4</th>\n",
       "      <td>LHR check in was quick at the First Wing and...</td>\n",
       "      <td>3</td>\n",
       "      <td>16th April 2023</td>\n",
       "      <td>United Kingdom</td>\n",
       "      <td>True</td>\n",
       "    </tr>\n",
       "  </tbody>\n",
       "</table>\n",
       "</div>"
      ],
      "text/plain": [
       "                                             reviews  \\\n",
       "0    They changed our Flights from Brussels to Lo...   \n",
       "1    At Copenhagen the most chaotic ticket counte...   \n",
       "2    Worst experience of my life trying to deal w...   \n",
       "3    Due to code sharing with Cathay Pacific I wa...   \n",
       "4    LHR check in was quick at the First Wing and...   \n",
       "\n",
       "                           stars             date         country  Verified  \n",
       "0  \\n\\t\\t\\t\\t\\t\\t\\t\\t\\t\\t\\t\\t\\t5  18th April 2023   United States     False  \n",
       "1                              2  18th April 2023   United States     False  \n",
       "2                              5  17th April 2023   United States      True  \n",
       "3                              1  17th April 2023       Hong Kong      True  \n",
       "4                              3  16th April 2023  United Kingdom      True  "
      ]
     },
     "execution_count": 19,
     "metadata": {},
     "output_type": "execute_result"
    }
   ],
   "source": [
    "df.head()"
   ]
  },
  {
   "cell_type": "code",
   "execution_count": 20,
   "id": "5694d3e3",
   "metadata": {},
   "outputs": [
    {
     "data": {
      "text/plain": [
       "array(['\\n\\t\\t\\t\\t\\t\\t\\t\\t\\t\\t\\t\\t\\t5', '2', '5', '1', '3', '4', '9', '7',\n",
       "       '10', '8', '6'], dtype=object)"
      ]
     },
     "execution_count": 20,
     "metadata": {},
     "output_type": "execute_result"
    }
   ],
   "source": [
    "df.stars.unique()"
   ]
  },
  {
   "cell_type": "code",
   "execution_count": 24,
   "id": "c9bdf5dd",
   "metadata": {},
   "outputs": [],
   "source": [
    "df.stars = df.stars.str.strip('\\n\\t\\t\\t\\t\\t\\t\\t\\t\\t\\t\\t\\t\\t')"
   ]
  },
  {
   "cell_type": "code",
   "execution_count": 25,
   "id": "c4a708f7",
   "metadata": {},
   "outputs": [
    {
     "data": {
      "text/html": [
       "<div>\n",
       "<style scoped>\n",
       "    .dataframe tbody tr th:only-of-type {\n",
       "        vertical-align: middle;\n",
       "    }\n",
       "\n",
       "    .dataframe tbody tr th {\n",
       "        vertical-align: top;\n",
       "    }\n",
       "\n",
       "    .dataframe thead th {\n",
       "        text-align: right;\n",
       "    }\n",
       "</style>\n",
       "<table border=\"1\" class=\"dataframe\">\n",
       "  <thead>\n",
       "    <tr style=\"text-align: right;\">\n",
       "      <th></th>\n",
       "      <th>reviews</th>\n",
       "      <th>stars</th>\n",
       "      <th>date</th>\n",
       "      <th>country</th>\n",
       "      <th>Verified</th>\n",
       "    </tr>\n",
       "  </thead>\n",
       "  <tbody>\n",
       "    <tr>\n",
       "      <th>0</th>\n",
       "      <td>They changed our Flights from Brussels to Lo...</td>\n",
       "      <td>5</td>\n",
       "      <td>18th April 2023</td>\n",
       "      <td>United States</td>\n",
       "      <td>False</td>\n",
       "    </tr>\n",
       "    <tr>\n",
       "      <th>1</th>\n",
       "      <td>At Copenhagen the most chaotic ticket counte...</td>\n",
       "      <td>2</td>\n",
       "      <td>18th April 2023</td>\n",
       "      <td>United States</td>\n",
       "      <td>False</td>\n",
       "    </tr>\n",
       "    <tr>\n",
       "      <th>2</th>\n",
       "      <td>Worst experience of my life trying to deal w...</td>\n",
       "      <td>5</td>\n",
       "      <td>17th April 2023</td>\n",
       "      <td>United States</td>\n",
       "      <td>True</td>\n",
       "    </tr>\n",
       "    <tr>\n",
       "      <th>3</th>\n",
       "      <td>Due to code sharing with Cathay Pacific I wa...</td>\n",
       "      <td>1</td>\n",
       "      <td>17th April 2023</td>\n",
       "      <td>Hong Kong</td>\n",
       "      <td>True</td>\n",
       "    </tr>\n",
       "    <tr>\n",
       "      <th>4</th>\n",
       "      <td>LHR check in was quick at the First Wing and...</td>\n",
       "      <td>3</td>\n",
       "      <td>16th April 2023</td>\n",
       "      <td>United Kingdom</td>\n",
       "      <td>True</td>\n",
       "    </tr>\n",
       "  </tbody>\n",
       "</table>\n",
       "</div>"
      ],
      "text/plain": [
       "                                             reviews stars             date  \\\n",
       "0    They changed our Flights from Brussels to Lo...     5  18th April 2023   \n",
       "1    At Copenhagen the most chaotic ticket counte...     2  18th April 2023   \n",
       "2    Worst experience of my life trying to deal w...     5  17th April 2023   \n",
       "3    Due to code sharing with Cathay Pacific I wa...     1  17th April 2023   \n",
       "4    LHR check in was quick at the First Wing and...     3  16th April 2023   \n",
       "\n",
       "          country  Verified  \n",
       "0   United States     False  \n",
       "1   United States     False  \n",
       "2   United States      True  \n",
       "3       Hong Kong      True  \n",
       "4  United Kingdom      True  "
      ]
     },
     "execution_count": 25,
     "metadata": {},
     "output_type": "execute_result"
    }
   ],
   "source": [
    "df.head()"
   ]
  },
  {
   "cell_type": "markdown",
   "id": "32979b85",
   "metadata": {},
   "source": [
    "##### Change the date format"
   ]
  },
  {
   "cell_type": "code",
   "execution_count": 26,
   "id": "0867cac9",
   "metadata": {},
   "outputs": [],
   "source": [
    "df.date = pd.to_datetime(df.date)"
   ]
  },
  {
   "cell_type": "code",
   "execution_count": 27,
   "id": "42922023",
   "metadata": {},
   "outputs": [
    {
     "data": {
      "text/plain": [
       "0   2023-04-18\n",
       "1   2023-04-18\n",
       "2   2023-04-17\n",
       "3   2023-04-17\n",
       "4   2023-04-16\n",
       "Name: date, dtype: datetime64[ns]"
      ]
     },
     "execution_count": 27,
     "metadata": {},
     "output_type": "execute_result"
    }
   ],
   "source": [
    "df.date.head()"
   ]
  },
  {
   "cell_type": "markdown",
   "id": "31999171",
   "metadata": {},
   "source": [
    "##### Export the cleaned dataframe to a csv file"
   ]
  },
  {
   "cell_type": "code",
   "execution_count": 30,
   "id": "1f8645d8",
   "metadata": {},
   "outputs": [],
   "source": [
    "df.to_csv(cwd + '/cleaned-BA-reviews.csv')"
   ]
  },
  {
   "cell_type": "code",
   "execution_count": null,
   "id": "96ea1a13",
   "metadata": {},
   "outputs": [],
   "source": []
  }
 ],
 "metadata": {
  "kernelspec": {
   "display_name": "Python 3 (ipykernel)",
   "language": "python",
   "name": "python3"
  },
  "language_info": {
   "codemirror_mode": {
    "name": "ipython",
    "version": 3
   },
   "file_extension": ".py",
   "mimetype": "text/x-python",
   "name": "python",
   "nbconvert_exporter": "python",
   "pygments_lexer": "ipython3",
   "version": "3.9.12"
  }
 },
 "nbformat": 4,
 "nbformat_minor": 5
}
